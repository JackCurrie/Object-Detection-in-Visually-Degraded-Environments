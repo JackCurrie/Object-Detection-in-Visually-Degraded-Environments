{
 "cells": [
  {
   "cell_type": "code",
   "execution_count": 4,
   "metadata": {},
   "outputs": [
    {
     "name": "stdout",
     "output_type": "stream",
     "text": [
      "Downloading data from https://github.com/fchollet/deep-learning-models/releases/download/v0.1/vgg19_weights_tf_dim_ordering_tf_kernels.h5\n",
      "574717952/574710816 [==============================] - 55s 0us/step\n"
     ]
    }
   ],
   "source": [
    "# Here, we will be making an attempt to perform transfer learning with the SYSU nighttime dataset\n",
    "# and we will be doing it in a (potentially naive) binary classifier of Vehicular VS. Non-Vehicular  \n",
    "# classes. We will only be training some fully connected layers at the end, no conv kernel fine tuning \n",
    "#\n",
    "from keras import applications\n",
    "from keras.preprocessing.image import ImageDataGenerator\n",
    "from keras import optimizers\n",
    "from keras.models import Sequential, Model \n",
    "from keras.layers import Dropout, Flatten, Dense, GlobalAveragePooling2D\n",
    "from keras import backend as k \n",
    "from keras.callbacks import ModelCheckpoint, LearningRateScheduler, TensorBoard, EarlyStopping\n",
    "\n",
    "img_width, img_height = 128,128 \n",
    "model = applications.VGG19(weights='imagenet', include_top=False, input_shape=(128, 128, 3))\n"
   ]
  },
  {
   "cell_type": "code",
   "execution_count": 5,
   "metadata": {},
   "outputs": [
    {
     "name": "stdout",
     "output_type": "stream",
     "text": [
      "_________________________________________________________________\n",
      "Layer (type)                 Output Shape              Param #   \n",
      "=================================================================\n",
      "input_2 (InputLayer)         (None, 224, 224, 3)       0         \n",
      "_________________________________________________________________\n",
      "block1_conv1 (Conv2D)        (None, 224, 224, 64)      1792      \n",
      "_________________________________________________________________\n",
      "block1_conv2 (Conv2D)        (None, 224, 224, 64)      36928     \n",
      "_________________________________________________________________\n",
      "block1_pool (MaxPooling2D)   (None, 112, 112, 64)      0         \n",
      "_________________________________________________________________\n",
      "block2_conv1 (Conv2D)        (None, 112, 112, 128)     73856     \n",
      "_________________________________________________________________\n",
      "block2_conv2 (Conv2D)        (None, 112, 112, 128)     147584    \n",
      "_________________________________________________________________\n",
      "block2_pool (MaxPooling2D)   (None, 56, 56, 128)       0         \n",
      "_________________________________________________________________\n",
      "block3_conv1 (Conv2D)        (None, 56, 56, 256)       295168    \n",
      "_________________________________________________________________\n",
      "block3_conv2 (Conv2D)        (None, 56, 56, 256)       590080    \n",
      "_________________________________________________________________\n",
      "block3_conv3 (Conv2D)        (None, 56, 56, 256)       590080    \n",
      "_________________________________________________________________\n",
      "block3_conv4 (Conv2D)        (None, 56, 56, 256)       590080    \n",
      "_________________________________________________________________\n",
      "block3_pool (MaxPooling2D)   (None, 28, 28, 256)       0         \n",
      "_________________________________________________________________\n",
      "block4_conv1 (Conv2D)        (None, 28, 28, 512)       1180160   \n",
      "_________________________________________________________________\n",
      "block4_conv2 (Conv2D)        (None, 28, 28, 512)       2359808   \n",
      "_________________________________________________________________\n",
      "block4_conv3 (Conv2D)        (None, 28, 28, 512)       2359808   \n",
      "_________________________________________________________________\n",
      "block4_conv4 (Conv2D)        (None, 28, 28, 512)       2359808   \n",
      "_________________________________________________________________\n",
      "block4_pool (MaxPooling2D)   (None, 14, 14, 512)       0         \n",
      "_________________________________________________________________\n",
      "block5_conv1 (Conv2D)        (None, 14, 14, 512)       2359808   \n",
      "_________________________________________________________________\n",
      "block5_conv2 (Conv2D)        (None, 14, 14, 512)       2359808   \n",
      "_________________________________________________________________\n",
      "block5_conv3 (Conv2D)        (None, 14, 14, 512)       2359808   \n",
      "_________________________________________________________________\n",
      "block5_conv4 (Conv2D)        (None, 14, 14, 512)       2359808   \n",
      "_________________________________________________________________\n",
      "block5_pool (MaxPooling2D)   (None, 7, 7, 512)         0         \n",
      "_________________________________________________________________\n",
      "flatten (Flatten)            (None, 25088)             0         \n",
      "_________________________________________________________________\n",
      "fc1 (Dense)                  (None, 4096)              102764544 \n",
      "_________________________________________________________________\n",
      "fc2 (Dense)                  (None, 4096)              16781312  \n",
      "_________________________________________________________________\n",
      "predictions (Dense)          (None, 1000)              4097000   \n",
      "=================================================================\n",
      "Total params: 143,667,240\n",
      "Trainable params: 143,667,240\n",
      "Non-trainable params: 0\n",
      "_________________________________________________________________\n"
     ]
    }
   ],
   "source": [
    "# Let's check out the model's architecture, in order to see what we would like to freeze\n",
    "# and what we will want to train\n",
    "model.summary()\n"
   ]
  },
  {
   "cell_type": "code",
   "execution_count": 5,
   "metadata": {},
   "outputs": [],
   "source": [
    "# Freeze all pre-trained convolutional layers\n",
    "#    - If pure FC layers stacked on top does not converge, then try unfreezing\n",
    "#      some of the conv layers \n",
    "for layer in model.layers:\n",
    "    layer.trainable = False\n",
    "   \n",
    "\n",
    "# Add two dense layers, a final binary layer with a softmax activation\n",
    "# Hyperparameters: Number of neurons in both dense layers (X1, X2)\n",
    "#                  dropout rate (D1)\n",
    "l = model.output\n",
    "l = Flatten()(l)\n",
    "l = Dense(1024, activation='relu')(l)\n",
    "l = Dropout(0.5)(l)    \n",
    "l = Dense(1024, activation='relu')(l)\n",
    "final = Dense(2, activation='softmax')(l)\n",
    "\n",
    "final_model = Model(inputs=model.input, outputs=final)\n",
    "\n",
    "# !!! YO, THESE ARE THOUGHTLESSLY CHOSEN HYPERPARAMETERS\n",
    "#\n",
    "final_model.compile(\n",
    "    loss='categorical_crossentropy', \n",
    "    optimizer=optimizers.SGD(lr=0.0001, momentum=0.9), \n",
    "    metrics=[\"accuracy\"])\n",
    "\n"
   ]
  },
  {
   "cell_type": "code",
   "execution_count": 28,
   "metadata": {},
   "outputs": [
    {
     "name": "stdout",
     "output_type": "stream",
     "text": [
      "Found 80914 images belonging to 2 classes.\n",
      "Found 11840 images belonging to 2 classes.\n"
     ]
    }
   ],
   "source": [
    "# Defaults thoughtlessly accepted from here\n",
    "#\n",
    "# https://towardsdatascience.com/transfer-learning-using-keras-d804b2e04ef8\n",
    "#\n",
    "train_dir = './cropped_split_dataset/train'\n",
    "validation_dir = './cropped_split_dataset/validation'\n",
    "\n",
    "\n",
    "# Hyperparameters:\n",
    "#    - batch_size: thoughtlessly accepted\n",
    "#    - all data augmentation constants\n",
    "#\n",
    "batch_size = 16 \n",
    "zoom_range = 0.3\n",
    "width_shift_range = 0.3\n",
    "height_shift_range=0.3\n",
    "rotation_range=30\n",
    "\n",
    "\n",
    "# We will do 5 epochs do investigate the quality of the model, and\n",
    "# more once our hyperparameters have been selected\n",
    "epochs = 2 \n",
    "\n",
    "\n",
    "train_datagen = ImageDataGenerator(\n",
    "    rescale=1./255,\n",
    "    horizontal_flip=True,\n",
    "    zoom_range=zoom_range,\n",
    "    width_shift_range=width_shift_range,\n",
    "    height_shift_range=height_shift_range,\n",
    "    rotation_range=rotation_range)\n",
    "\n",
    "validation_datagen = ImageDataGenerator(\n",
    "    rescale=1./255,\n",
    "    horizontal_flip=True,\n",
    "    zoom_range=zoom_range,\n",
    "    width_shift_range=width_shift_range,\n",
    "    height_shift_range=height_shift_range,\n",
    "    rotation_range=rotation_range)\n",
    "\n",
    "train_generator = train_datagen.flow_from_directory(\n",
    "    train_dir,\n",
    "    target_size=(img_height, img_width),\n",
    "    batch_size=batch_size,\n",
    "    class_mode='categorical'\n",
    ")\n",
    "\n",
    "validation_generator = validation_datagen.flow_from_directory(\n",
    "    validation_dir,\n",
    "    target_size=(img_height, img_width),\n",
    "    class_mode='categorical'\n",
    ")\n"
   ]
  },
  {
   "cell_type": "code",
   "execution_count": 29,
   "metadata": {},
   "outputs": [],
   "source": [
    "checkpoint = ModelCheckpoint(\"vgg19_2fc_1024_1024.h5\", monitor='val_acc', verbose=1, save_best_only=True, save_weights_only=False, mode='auto', period=1)\n",
    "early = EarlyStopping(monitor='val_acc', min_delta=0, patience=10, verbose=1, mode='auto')\n"
   ]
  },
  {
   "cell_type": "code",
   "execution_count": 30,
   "metadata": {},
   "outputs": [
    {
     "name": "stdout",
     "output_type": "stream",
     "text": [
      "80914\n",
      "11840\n"
     ]
    }
   ],
   "source": [
    "import os, os.path\n",
    "\n",
    "num_train_ex = len([file for file in os.listdir(train_dir + '/cars/')]) + len([file for file in os.listdir(train_dir + '/non-cars/')])\n",
    "num_validation_ex = len([file for file in os.listdir(validation_dir + '/cars/')]) + len([file for file in os.listdir(validation_dir + '/non-cars/')])\n",
    "\n",
    "print(num_train_ex)\n",
    "print(num_validation_ex)"
   ]
  },
  {
   "cell_type": "code",
   "execution_count": 31,
   "metadata": {},
   "outputs": [
    {
     "name": "stdout",
     "output_type": "stream",
     "text": [
      "Epoch 1/2\n",
      "5057/5057 [==============================] - 15333s 3s/step - loss: 0.3160 - acc: 0.8588 - val_loss: 0.2645 - val_acc: 0.8861\n",
      "\n",
      "Epoch 00001: val_acc improved from -inf to 0.88615, saving model to vgg19_2fc_1024_1024.h5\n",
      "Epoch 2/2\n",
      "5057/5057 [==============================] - 15325s 3s/step - loss: 0.2977 - acc: 0.8689 - val_loss: 0.2531 - val_acc: 0.8922\n",
      "\n",
      "Epoch 00002: val_acc improved from 0.88615 to 0.89223, saving model to vgg19_2fc_1024_1024.h5\n"
     ]
    },
    {
     "data": {
      "text/plain": [
       "<keras.callbacks.History at 0x7fe2cb694390>"
      ]
     },
     "execution_count": 31,
     "metadata": {},
     "output_type": "execute_result"
    }
   ],
   "source": [
    "final_model.fit_generator(\n",
    "    train_generator,\n",
    "    steps_per_epoch=int(num_train_ex/batch_size),\n",
    "    epochs=epochs,\n",
    "    validation_data=validation_generator,\n",
    "    validation_steps=int(num_validation_ex/batch_size), \n",
    "    use_multiprocessing=True, \n",
    "    callbacks=[checkpoint, early])\n",
    "\n"
   ]
  },
  {
   "cell_type": "code",
   "execution_count": null,
   "metadata": {},
   "outputs": [],
   "source": []
  }
 ],
 "metadata": {
  "kernelspec": {
   "display_name": "Python 3",
   "language": "python",
   "name": "python3"
  },
  "language_info": {
   "codemirror_mode": {
    "name": "ipython",
    "version": 3
   },
   "file_extension": ".py",
   "mimetype": "text/x-python",
   "name": "python",
   "nbconvert_exporter": "python",
   "pygments_lexer": "ipython3",
   "version": "3.6.4"
  }
 },
 "nbformat": 4,
 "nbformat_minor": 2
}
