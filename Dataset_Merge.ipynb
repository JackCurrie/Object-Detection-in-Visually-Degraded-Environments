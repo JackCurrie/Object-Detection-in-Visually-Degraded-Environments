{
 "cells": [
  {
   "cell_type": "code",
   "execution_count": 1,
   "metadata": {},
   "outputs": [],
   "source": [
    "# High level overview:\n",
    "#   Split the SYSU and the UNR data into an 80/10/10 training/validation/test split\n",
    "#   and put them into the \"merged_dataset/data\" directory. \n",
    "#   There will also be a text file in the merged_dataset directory with the vehicular coordinates concatenated \n",
    "#\n",
    "# Medium level overview:\n",
    "#   Each of the filenames will have a prefix \"SYSU\" or \"UNR\" to describe which dataset it came from\n",
    "#\n",
    "#   If the file is good to go for background extraction, it will have be given the \"BG\" prefix \n",
    "#      Files in the first 2007 images of the UNR dataset, and all images\n",
    "# \n",
    "#\n",
    "import imageio as io\n",
    "import glob\n",
    "import os\n",
    "import matplotlib.pyplot as plt\n",
    "import re\n",
    "\n",
    "merged_directory = './merged_dataset/'\n",
    "merged_data_directory = merged_directory + 'data/'\n",
    "\n",
    "total_file_count = 0"
   ]
  },
  {
   "cell_type": "code",
   "execution_count": 8,
   "metadata": {},
   "outputs": [],
   "source": [
    "# First intake the data from the SYSU dataset, and intake the text from its ground truth file \n",
    "#   In the end you will want an array full of objects which contain a new filename in a 'file' field,\n",
    "#   and the actual data in a 'data' field\n",
    "SYSU_GT = []\n",
    "SYSU_data = []\n",
    "SYSU_data_directory = './SYSU_data/data/'\n",
    "\n",
    "with open('./SYSU_data/GT5576.txt') as f:\n",
    "    for line in f:\n",
    "        line = line.split(' ')\n",
    "        line[0] = str(int(line[0]) - 1)\n",
    "        SYSU_GT.append(line)\n",
    "        total_file_count = total_file_count + 1\n",
    "        \n",
    "SYSU_files = os.listdir(SYSU_data_directory)        \n",
    "\n",
    "\n",
    "for file in SYSU_files:\n",
    "    new_file_name = 'BG_SYSU_' + file\n",
    "    img = io.imread(SYSU_data_directory + file)\n",
    "    SYSU_data.append({'file': new_file_name, 'data': img}) \n",
    "\n",
    "    \n",
    "# Now we need to write to the new directory\n",
    "for item in SYSU_data:\n",
    "    io.imwrite((merged_data_directory + item['file']), item['data'])\n",
    "    \n",
    "# Freeeeeee the memory brothaman \n",
    "SYSU_data = []"
   ]
  },
  {
   "cell_type": "code",
   "execution_count": 11,
   "metadata": {},
   "outputs": [
    {
     "name": "stdout",
     "output_type": "stream",
     "text": [
      "5576\n",
      "['5576', '4', '139', '248', '163', '80', '272', '230', '132', '49', '382', '219', '66', '36', '425', '208', '49', '39', '\\n']\n"
     ]
    }
   ],
   "source": [
    "# !!! Now always remember that the total_file_count MAY BE OUT OF SYNC UNLESS THIS WHOLE PROGRAM IS RUN AGAIN\n",
    "#\n",
    "# Now intake the data from the UNR dataset, and intake the text from its ground truth file \n",
    "#   In the end you will want an array full of objects which contain a new filename in a 'file' field,\n",
    "#   and the actual data in a 'data' field\n",
    "# \n",
    "#   Remember that the first 2007 images will have the \"BG\" prefix in the file name\n",
    "#\n",
    "#   Also, remember to order the numbering here starting with the last number of the SYSU dataset \n",
    "#\n",
    "#   Then, Iterate through the ground truth text here, and make sure that the new file number labels are synced \n",
    "#   up with the order of the rest of it all\n",
    "#\n",
    "UNR_GT = []\n",
    "UNR_data_directory = './ARL_data/data/'\n",
    "\n",
    "# !!! Hardcoded for simplicity, be cautious!!!\n",
    "total_file_count = len(SYSU_files)\n",
    "\n",
    "with open('./ARL_data/gt10913.txt') as f:\n",
    "    for i, line in enumerate(f):\n",
    "        line = line.split(' ')\n",
    "        line[0] = str(total_file_count + i)\n",
    "        UNR_GT.append(line)\n",
    "        \n",
    "        \n",
    "UNR_files = os.listdir(UNR_data_directory)        \n",
    "new_unr_files = []\n",
    "\n",
    "for file in UNR_files:\n",
    "    ind = int(re.findall(r'\\d+', file)[0])\n",
    "    new_unr_files.append({'file': file, 'i': ind}) \n",
    "\n",
    "sorted_list = sorted(new_unr_files, key=lambda k: k['i'])\n",
    "UNR_files = [item['file'] for item in sorted_list]\n",
    "    \n",
    "print(total_file_count)\n",
    "print(UNR_GT[0])\n",
    "    \n",
    "for i, file in enumerate(UNR_files):\n",
    "    if i < 2008:\n",
    "        new_file_name = 'BG_UNR_' + str(total_file_count) + '.jpg'\n",
    "    else:\n",
    "        new_file_name = 'UNR_' + str(total_file_count) + '.jpg'\n",
    "   \n",
    "    total_file_count = total_file_count + 1\n",
    "    img = io.imread(UNR_data_directory + file)\n",
    "    item = {'file': new_file_name, 'data': img} \n",
    "    io.imwrite((merged_data_directory + item['file']), item['data'])\n"
   ]
  },
  {
   "cell_type": "code",
   "execution_count": 23,
   "metadata": {},
   "outputs": [
    {
     "data": {
      "text/plain": [
       "548665"
      ]
     },
     "execution_count": 23,
     "metadata": {},
     "output_type": "execute_result"
    }
   ],
   "source": [
    "# Now we will have the text for an entirely new merged_groundtruth, \n",
    "# and we will have two arrays both fulll of the respective datum and their filenames \n",
    "#\n",
    "# We will now write the ground truth to a file in the \"merged_dataset\" directory, and \n",
    "# iterate through the arrays to write their contents to the \"merged_dataset/data\" directory \n",
    "#\n",
    "# UPDATE: The SYSU dataset will already  have been written to the directory by this point \n",
    "#\n",
    "full_gt_string = ''\n",
    "length = len(SYSU_GT) + len(UNR_GT)\n",
    "gt_file = './merged_dataset/gt' + str(length) + '.txt'\n",
    "\n",
    "\n",
    "for line in SYSU_GT:\n",
    "    line = ' '.join(line)\n",
    "    full_gt_string = full_gt_string + line \n",
    "    \n",
    "for line in UNR_GT:\n",
    "    line = ' '.join(line)\n",
    "    full_gt_string = full_gt_string + line \n",
    "    \n",
    "out_file = open(gt_file, 'w')\n",
    "out_file.write(full_gt_string)"
   ]
  }
 ],
 "metadata": {
  "kernelspec": {
   "display_name": "Python 3",
   "language": "python",
   "name": "python3"
  },
  "language_info": {
   "codemirror_mode": {
    "name": "ipython",
    "version": 3
   },
   "file_extension": ".py",
   "mimetype": "text/x-python",
   "name": "python",
   "nbconvert_exporter": "python",
   "pygments_lexer": "ipython3",
   "version": "3.5.2"
  }
 },
 "nbformat": 4,
 "nbformat_minor": 2
}
