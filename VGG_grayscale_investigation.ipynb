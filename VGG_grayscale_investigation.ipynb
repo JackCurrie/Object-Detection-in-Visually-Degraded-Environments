{
 "cells": [
  {
   "cell_type": "code",
   "execution_count": 2,
   "metadata": {},
   "outputs": [],
   "source": [
    "from keras import applications\n",
    "from keras.preprocessing import image\n",
    "from keras.preprocessing.image import ImageDataGenerator\n",
    "from keras import optimizers\n",
    "from keras.models import Sequential, Model \n",
    "from keras.layers import Dropout, Flatten, Dense, GlobalAveragePooling2D\n",
    "from keras import backend as k \n",
    "from keras.callbacks import ModelCheckpoint, TensorBoard, EarlyStopping\n",
    "from keras.applications.vgg16 import VGG16\n",
    "from keras.applications.vgg16 import preprocess_input\n",
    "\n",
    "import matplotlib.pyplot as plt\n",
    "import numpy as np\n",
    "\n",
    "import os\n"
   ]
  },
  {
   "cell_type": "code",
   "execution_count": 3,
   "metadata": {},
   "outputs": [],
   "source": [
    "# Let's first just see what happens when we run a single gray scale image through VGG\n",
    "# Hypotheses\n",
    "#   - It will through an error/break in some overt way\n",
    "#   - It will not throw an error, and just fucking suck\n",
    "#\n",
    "# Before we even do this, so tha we can truly pinpoint both ofthese thoughts, let's pass an OBVIOUS \n",
    "# colored image of a vehicle through here, and then do the same image but in grayscale. \n",
    "model = VGG16(weights='imagenet', include_top=True)\n"
   ]
  },
  {
   "cell_type": "code",
   "execution_count": 4,
   "metadata": {},
   "outputs": [
    {
     "ename": "FileNotFoundError",
     "evalue": "[Errno 2] No such file or directory: './color_cropped_images/cars/img0_car0.jpg'",
     "output_type": "error",
     "traceback": [
      "\u001b[0;31m---------------------------------------------------------------------------\u001b[0m",
      "\u001b[0;31mFileNotFoundError\u001b[0m                         Traceback (most recent call last)",
      "\u001b[0;32m<ipython-input-4-2998e2d15e5c>\u001b[0m in \u001b[0;36m<module>\u001b[0;34m()\u001b[0m\n\u001b[1;32m      1\u001b[0m \u001b[0;31m# Why tf are we doing this through a keras wrapper\u001b[0m\u001b[0;34m\u001b[0m\u001b[0;34m\u001b[0m\u001b[0m\n\u001b[1;32m      2\u001b[0m \u001b[0mcolor_img_path\u001b[0m \u001b[0;34m=\u001b[0m \u001b[0;34m'./color_cropped_images/cars/img0_car0.jpg'\u001b[0m\u001b[0;34m\u001b[0m\u001b[0m\n\u001b[0;32m----> 3\u001b[0;31m \u001b[0mcolor_img\u001b[0m \u001b[0;34m=\u001b[0m \u001b[0mimage\u001b[0m\u001b[0;34m.\u001b[0m\u001b[0mload_img\u001b[0m\u001b[0;34m(\u001b[0m\u001b[0mcolor_img_path\u001b[0m\u001b[0;34m,\u001b[0m \u001b[0mtarget_size\u001b[0m\u001b[0;34m=\u001b[0m\u001b[0;34m(\u001b[0m\u001b[0;36m224\u001b[0m\u001b[0;34m,\u001b[0m \u001b[0;36m224\u001b[0m\u001b[0;34m)\u001b[0m\u001b[0;34m)\u001b[0m\u001b[0;34m\u001b[0m\u001b[0m\n\u001b[0m\u001b[1;32m      4\u001b[0m \u001b[0mcolor_img\u001b[0m \u001b[0;34m=\u001b[0m \u001b[0mimage\u001b[0m\u001b[0;34m.\u001b[0m\u001b[0mimg_to_array\u001b[0m\u001b[0;34m(\u001b[0m\u001b[0mcolor_img\u001b[0m\u001b[0;34m)\u001b[0m\u001b[0;34m\u001b[0m\u001b[0m\n\u001b[1;32m      5\u001b[0m \u001b[0;34m\u001b[0m\u001b[0m\n",
      "\u001b[0;32m/usr/local/lib/python3.5/dist-packages/keras/preprocessing/image.py\u001b[0m in \u001b[0;36mload_img\u001b[0;34m(path, grayscale, target_size, interpolation)\u001b[0m\n\u001b[1;32m    347\u001b[0m         raise ImportError('Could not import PIL.Image. '\n\u001b[1;32m    348\u001b[0m                           'The use of `array_to_img` requires PIL.')\n\u001b[0;32m--> 349\u001b[0;31m     \u001b[0mimg\u001b[0m \u001b[0;34m=\u001b[0m \u001b[0mpil_image\u001b[0m\u001b[0;34m.\u001b[0m\u001b[0mopen\u001b[0m\u001b[0;34m(\u001b[0m\u001b[0mpath\u001b[0m\u001b[0;34m)\u001b[0m\u001b[0;34m\u001b[0m\u001b[0m\n\u001b[0m\u001b[1;32m    350\u001b[0m     \u001b[0;32mif\u001b[0m \u001b[0mgrayscale\u001b[0m\u001b[0;34m:\u001b[0m\u001b[0;34m\u001b[0m\u001b[0m\n\u001b[1;32m    351\u001b[0m         \u001b[0;32mif\u001b[0m \u001b[0mimg\u001b[0m\u001b[0;34m.\u001b[0m\u001b[0mmode\u001b[0m \u001b[0;34m!=\u001b[0m \u001b[0;34m'L'\u001b[0m\u001b[0;34m:\u001b[0m\u001b[0;34m\u001b[0m\u001b[0m\n",
      "\u001b[0;32m~/.local/lib/python3.5/site-packages/PIL/Image.py\u001b[0m in \u001b[0;36mopen\u001b[0;34m(fp, mode)\u001b[0m\n\u001b[1;32m   2541\u001b[0m \u001b[0;34m\u001b[0m\u001b[0m\n\u001b[1;32m   2542\u001b[0m     \u001b[0;32mif\u001b[0m \u001b[0mfilename\u001b[0m\u001b[0;34m:\u001b[0m\u001b[0;34m\u001b[0m\u001b[0m\n\u001b[0;32m-> 2543\u001b[0;31m         \u001b[0mfp\u001b[0m \u001b[0;34m=\u001b[0m \u001b[0mbuiltins\u001b[0m\u001b[0;34m.\u001b[0m\u001b[0mopen\u001b[0m\u001b[0;34m(\u001b[0m\u001b[0mfilename\u001b[0m\u001b[0;34m,\u001b[0m \u001b[0;34m\"rb\"\u001b[0m\u001b[0;34m)\u001b[0m\u001b[0;34m\u001b[0m\u001b[0m\n\u001b[0m\u001b[1;32m   2544\u001b[0m         \u001b[0mexclusive_fp\u001b[0m \u001b[0;34m=\u001b[0m \u001b[0;32mTrue\u001b[0m\u001b[0;34m\u001b[0m\u001b[0m\n\u001b[1;32m   2545\u001b[0m \u001b[0;34m\u001b[0m\u001b[0m\n",
      "\u001b[0;31mFileNotFoundError\u001b[0m: [Errno 2] No such file or directory: './color_cropped_images/cars/img0_car0.jpg'"
     ]
    }
   ],
   "source": [
    "# Why tf are we doing this through a keras wrapper \n",
    "color_img_path = './color_cropped_images/cars/img0_car0.jpg'\n",
    "color_img = image.load_img(color_img_path, target_size=(224, 224)) \n",
    "color_img = image.img_to_array(color_img)\n",
    "\n",
    "plt.imshow(color_img.astype(np.uint8))\n",
    "plt.show()\n",
    "\n",
    "# The default  here for the mode of the preprocess_input method is 'caffe'\n",
    "# which is actually what we want here because VGG16 was originally implemented in caffe\n",
    "color_img = np.expand_dims(color_img, axis=0)\n",
    "color_img = preprocess_input(color_img)\n",
    "\n",
    "results = model.predict(color_img)\n",
    "\n",
    "print('prediction: ', imagenet_classes.get(int(np.argmax(results))) )\n",
    "print('max_position: ', np.argmax(results))\n",
    "print('max: ', np.max(results))\n",
    "print('min', np.min(results))\n",
    "\n"
   ]
  },
  {
   "cell_type": "code",
   "execution_count": 9,
   "metadata": {},
   "outputs": [
    {
     "name": "stdout",
     "output_type": "stream",
     "text": [
      "(224, 224, 3)\n"
     ]
    },
    {
     "data": {
      "image/png": "[encoded data removed]",
      "text/plain": [
       "<matplotlib.figure.Figure at 0x7f2df807b7f0>"
      ]
     },
     "metadata": {},
     "output_type": "display_data"
    },
    {
     "name": "stdout",
     "output_type": "stream",
     "text": [
      "(33, 57)\n"
     ]
    }
   ],
   "source": [
    "# So it thinks that that single image is a snowplow, which is wrong, but I think I can understand how\n",
    "# a neural network could see that as an analagous class\n",
    "# I am going to give it a whorl onthe same image but in grayscale and see if it even accepts it\n",
    "#\n",
    "gray_img_path = './cropped_split_dataset/test/cars/img1_car0.jpg'\n",
    "img = image.load_img(gray_img_path, target_size=(224, 224))\n",
    "img = image.img_to_array(img)\n",
    "\n",
    "print(img.shape)\n",
    "plt.imshow(img.astype(np.uint8))\n",
    "plt.show()\n",
    "\n",
    "# So Here is an interesting revelation:\n",
    "#    The keras image loader automatically maps the grayscale image into a tensor with depth 3 \n",
    "#    but what does it actually do? It seems as through there is some operation by which it just replicates \n",
    "#    the image into each color channel in a way that the display of it through all three channels is just \n",
    "#    the grayscale image\n",
    "#\n",
    "# I am going to investigate to see if the file is interpreted as such when pulled in through something else\n",
    "import imageio as io\n",
    "io_img = io.imread(gray_img_path)\n",
    "print(io_img.shape)\n",
    "#\n",
    "# Results: The keras image preprocessor is the SHITITITTITITIITTII because it makes a 3D tensor \n",
    "# of your desired dimensions out of gray scale images.I wonder if this will disrupt how conv nets sees them\n",
    "#    but it can also take the \"grayscale\" argument and just take it in as a literal grayscale img \n"
   ]
  },
  {
   "cell_type": "code",
   "execution_count": 88,
   "metadata": {},
   "outputs": [
    {
     "name": "stdout",
     "output_type": "stream",
     "text": [
      "prediction:  snowplow, snowplough\n",
      "max_position:  803\n",
      "max:  0.30434513\n",
      "min 1.5870116e-07\n"
     ]
    }
   ],
   "source": [
    "# Holy shit! When making a prediction with VGG on this grayscale image, it produced the\n",
    "# literal exact same certainties for the outputs of the minimum and maximum outputs on the class vector.\n",
    "# So I guess that preserving color information won't be overtly important in this case\n",
    "img = image.load_img(gray_img_path, target_size=(224, 224))\n",
    "img = image.img_to_array(img)\n",
    "\n",
    "img = np.expand_dims(img, axis=0)\n",
    "img = preprocess_input(img)\n",
    "\n",
    "results = model.predict(color_img)\n",
    "\n",
    "print('prediction: ', imagenet_classes.get(int(np.argmax(results))) )\n",
    "print('max_position: ', np.argmax(results))\n",
    "print('max: ', np.max(results))\n",
    "print('min', np.min(results))\n"
   ]
  },
  {
   "cell_type": "code",
   "execution_count": 90,
   "metadata": {},
   "outputs": [],
   "source": [
    "# so far, we have very inconclusive results for the amount of color-channel specific features\n",
    "# which were learned internally to VGG-16, but it seems as if the difference could be insignificant \n",
    "# enough when using the keras image loaders that we should just try to do some\n",
    "# transfer learning on it\n",
    "# First, let's create the image loaders for the training and validation data\n",
    "\n",
    "\n",
    "\n",
    "\n"
   ]
  }
 ],
 "metadata": {
  "kernelspec": {
   "display_name": "Python 3",
   "language": "python",
   "name": "python3"
  },
  "language_info": {
   "codemirror_mode": {
    "name": "ipython",
    "version": 3
   },
   "file_extension": ".py",
   "mimetype": "text/x-python",
   "name": "python",
   "nbconvert_exporter": "python",
   "pygments_lexer": "ipython3",
   "version": "3.5.2"
  }
 },
 "nbformat": 4,
 "nbformat_minor": 2
}
