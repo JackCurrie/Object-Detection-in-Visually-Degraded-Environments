{
 "cells": [
  {
   "cell_type": "code",
   "execution_count": 64,
   "metadata": {},
   "outputs": [
    {
     "name": "stdout",
     "output_type": "stream",
     "text": [
      "Model loaded from json...\n",
      "Extra layers of model added\n",
      "Model weights loaded from disk...\n",
      "Model Compiled\n",
      "_________________________________________________________________\n",
      "Layer (type)                 Output Shape              Param #   \n",
      "=================================================================\n",
      "input_1 (InputLayer)         (None, 128, 128, 3)       0         \n",
      "_________________________________________________________________\n",
      "block1_conv1 (Conv2D)        (None, 128, 128, 64)      1792      \n",
      "_________________________________________________________________\n",
      "block1_conv2 (Conv2D)        (None, 128, 128, 64)      36928     \n",
      "_________________________________________________________________\n",
      "block1_pool (MaxPooling2D)   (None, 64, 64, 64)        0         \n",
      "_________________________________________________________________\n",
      "block2_conv1 (Conv2D)        (None, 64, 64, 128)       73856     \n",
      "_________________________________________________________________\n",
      "block2_conv2 (Conv2D)        (None, 64, 64, 128)       147584    \n",
      "_________________________________________________________________\n",
      "block2_pool (MaxPooling2D)   (None, 32, 32, 128)       0         \n",
      "_________________________________________________________________\n",
      "block3_conv1 (Conv2D)        (None, 32, 32, 256)       295168    \n",
      "_________________________________________________________________\n",
      "block3_conv2 (Conv2D)        (None, 32, 32, 256)       590080    \n",
      "_________________________________________________________________\n",
      "block3_conv3 (Conv2D)        (None, 32, 32, 256)       590080    \n",
      "_________________________________________________________________\n",
      "block3_conv4 (Conv2D)        (None, 32, 32, 256)       590080    \n",
      "_________________________________________________________________\n",
      "block3_pool (MaxPooling2D)   (None, 16, 16, 256)       0         \n",
      "_________________________________________________________________\n",
      "block4_conv1 (Conv2D)        (None, 16, 16, 512)       1180160   \n",
      "_________________________________________________________________\n",
      "block4_conv2 (Conv2D)        (None, 16, 16, 512)       2359808   \n",
      "_________________________________________________________________\n",
      "block4_conv3 (Conv2D)        (None, 16, 16, 512)       2359808   \n",
      "_________________________________________________________________\n",
      "block4_conv4 (Conv2D)        (None, 16, 16, 512)       2359808   \n",
      "_________________________________________________________________\n",
      "block4_pool (MaxPooling2D)   (None, 8, 8, 512)         0         \n",
      "_________________________________________________________________\n",
      "block5_conv1 (Conv2D)        (None, 8, 8, 512)         2359808   \n",
      "_________________________________________________________________\n",
      "block5_conv2 (Conv2D)        (None, 8, 8, 512)         2359808   \n",
      "_________________________________________________________________\n",
      "block5_conv3 (Conv2D)        (None, 8, 8, 512)         2359808   \n",
      "_________________________________________________________________\n",
      "block5_conv4 (Conv2D)        (None, 8, 8, 512)         2359808   \n",
      "_________________________________________________________________\n",
      "block5_pool (MaxPooling2D)   (None, 4, 4, 512)         0         \n",
      "_________________________________________________________________\n",
      "flatten_3 (Flatten)          (None, 8192)              0         \n",
      "_________________________________________________________________\n",
      "dense_7 (Dense)              (None, 1372)              11240796  \n",
      "_________________________________________________________________\n",
      "dropout_3 (Dropout)          (None, 1372)              0         \n",
      "_________________________________________________________________\n",
      "dense_8 (Dense)              (None, 1576)              2163848   \n",
      "_________________________________________________________________\n",
      "dense_9 (Dense)              (None, 2)                 3154      \n",
      "=================================================================\n",
      "Total params: 33,432,182\n",
      "Trainable params: 15,767,606\n",
      "Non-trainable params: 17,664,576\n",
      "_________________________________________________________________\n"
     ]
    }
   ],
   "source": [
    "# This notebook can be used to analyze a model. ANY model. We are just going to \n",
    "# load this model on up, then run the validation data through it, and get make a nice confusion matrix\n",
    "# from the results :)\n",
    "#\n",
    "from keras import applications\n",
    "from keras.preprocessing.image import ImageDataGenerator\n",
    "from keras import optimizers\n",
    "from keras.models import Sequential, Model, model_from_json\n",
    "from keras import backend as K \n",
    "from keras.layers import Dropout, Flatten, Dense\n",
    "\n",
    "import numpy as np\n",
    "from sklearn.metrics import confusion_matrix\n",
    "import itertools\n",
    "import matplotlib.pyplot as plt\n",
    "import pandas as pd\n",
    "\n",
    "\n",
    "\n",
    "# You put the file names in here\n",
    "#\n",
    "json_file = 'VGG19_tansfer[m1]_2.json'\n",
    "weight_file_name = 'VGG19_transfer[m1]_2.h5'\n",
    "validation_dir = './cropped_split_dataset/validation'\n",
    "\n",
    "# And you put the model architecture info here\n",
    "#\n",
    "loss = 'categorical_crossentropy'\n",
    "num_units_first_dense = 1372\n",
    "dropout_rate = 0.4662253413954879\n",
    "num_units_second_dense = 1576\n",
    "lr = 0.004454151354887021\n",
    "momentum = 0.8802092606017858\n",
    "\n",
    "####################################################\n",
    "#       Where the magic happens                    #\n",
    "#                                                  #  \n",
    "model_json = open('./models_json/' + json_file, 'r')\n",
    "loaded_model_json = model_json.read()\n",
    "model_json.close()\n",
    "model = model_from_json(loaded_model_json)\n",
    "print('Model loaded from json...')\n",
    "\n",
    "l = model.output\n",
    "l = Flatten()(l)\n",
    "l = Dense(num_units_first_dense, activation='relu')(l)\n",
    "l = Dropout(dropout_rate)(l)\n",
    "l = Dense(num_units_second_dense, activation='relu')(l)\n",
    "final = Dense(2, activation='softmax')(l)\n",
    "model = Model(inputs=model.input, outputs=final)\n",
    "print('Extra layers of model added')\n",
    "\n",
    "weight_file = './weights/' + weight_file_name\n",
    "model.load_weights(weight_file)\n",
    "print('Model weights loaded from disk...')\n",
    "\n",
    "model.compile(\n",
    "     loss=loss,\n",
    "     optimizer=optimizers.SGD(lr=lr, momentum=momentum),\n",
    "     metrics=['accuracy'])\n",
    "print('Model Compiled')\n",
    "\n",
    "model.summary()"
   ]
  },
  {
   "cell_type": "code",
   "execution_count": 110,
   "metadata": {},
   "outputs": [
    {
     "name": "stdout",
     "output_type": "stream",
     "text": [
      "Found 11840 images belonging to 2 classes.\n"
     ]
    }
   ],
   "source": [
    "# Here is where we do the predictions and evaluations\n",
    "#\n",
    "img_height, img_width = 128, 128\n",
    "\n",
    "validation_datagen = ImageDataGenerator(rescale=1./255)\n",
    "validation_generator = validation_datagen.flow_from_directory(\n",
    "        validation_dir,\n",
    "        shuffle=False,\n",
    "        target_size=(img_height, img_width),\n",
    "        class_mode='categorical')\n",
    "\n",
    "predictions = model.predict_generator(validation_generator, use_multiprocessing=True)\n",
    "evaluations = model.evaluate_generator(validation_generator, use_multiprocessing=True)\n"
   ]
  },
  {
   "cell_type": "code",
   "execution_count": 111,
   "metadata": {},
   "outputs": [
    {
     "name": "stdout",
     "output_type": "stream",
     "text": [
      "Performance of evaluation\n",
      "['loss', 'acc']\n",
      "[0.07378142233738873, 0.9730574324324325]\n"
     ]
    }
   ],
   "source": [
    "print('Performance of evaluation')\n",
    "print(model.metrics_names)\n",
    "print(evaluations)  # 97.3 accuracy Boiiiiii"
   ]
  },
  {
   "cell_type": "code",
   "execution_count": 114,
   "metadata": {},
   "outputs": [
    {
     "name": "stdout",
     "output_type": "stream",
     "text": [
      "(11840, 2)\n",
      "[[1.00e+00 2.12e-07]\n",
      " [1.00e+00 3.62e-08]\n",
      " [5.57e-01 4.43e-01]\n",
      " [1.00e+00 2.12e-06]\n",
      " [1.00e+00 1.10e-08]]\n",
      "[0 0 0 0 0]\n",
      "[0 0 0 0 0]\n",
      "Confusion matrix, without normalization\n",
      "[[2677  114]\n",
      " [ 205 8844]]\n",
      "Normalized confusion matrix\n",
      "[[0.96 0.04]\n",
      " [0.02 0.98]]\n"
     ]
    },
    {
     "data": {
      "image/png": "[encoded data removed]",
      "text/plain": [
       "<matplotlib.figure.Figure at 0x7f53640f7b00>"
      ]
     },
     "metadata": {},
     "output_type": "display_data"
    },
    {
     "data": {
      "image/png": "[encoded data removed]",
      "text/plain": [
       "<matplotlib.figure.Figure at 0x7f536e50fc50>"
      ]
     },
     "metadata": {},
     "output_type": "display_data"
    },
    {
     "data": {
      "image/png": "[encoded data removed]",
      "text/plain": [
       "<matplotlib.figure.Figure at 0x7f536e4ab5f8>"
      ]
     },
     "metadata": {},
     "output_type": "display_data"
    }
   ],
   "source": [
    "# Now to makea confusion matrix so that we can see some more precise \n",
    "# performance statistics\n",
    "y_true = validation_generator.classes\n",
    "y_pred = np.argmax(predictions, axis=-1)\n",
    "\n",
    "# Compute confusion matrix\n",
    "# Plot non-normalized  && normalized confusion matrices\n",
    "cnf_matrix = confusion_matrix(y_true, y_pred)\n",
    "np.set_printoptions(precision=2)\n",
    "\n",
    "plt.figure()\n",
    "plot_confusion_matrix(cnf_matrix, classes=class_names,\n",
    "                      title='Confusion matrix, without normalization')\n",
    "\n",
    "plt.figure()\n",
    "plot_confusion_matrix(cnf_matrix, classes=class_names, normalize=True,\n",
    "                      title='Normalized confusion matrix')\n",
    "\n",
    "plt.show()"
   ]
  },
  {
   "cell_type": "code",
   "execution_count": null,
   "metadata": {},
   "outputs": [],
   "source": [
    "# Taken from scikit learn website\n",
    "def plot_confusion_matrix(cm, classes,\n",
    "                          normalize=False,\n",
    "                          title='Confusion matrix',\n",
    "                          cmap=plt.cm.Blues):\n",
    "    \"\"\"\n",
    "    This function prints and plots the confusion matrix.\n",
    "    Normalization can be applied by setting `normalize=True`.\n",
    "    \"\"\"\n",
    "    if normalize:\n",
    "        cm = cm.astype('float') / cm.sum(axis=1)[:, np.newaxis]\n",
    "        print(\"Normalized confusion matrix\")\n",
    "    else:\n",
    "        print('Confusion matrix, without normalization')\n",
    "\n",
    "    print(cm)\n",
    "\n",
    "    plt.imshow(cm, interpolation='nearest', cmap=cmap)\n",
    "    plt.title(title)\n",
    "    plt.colorbar()\n",
    "    tick_marks = np.arange(len(classes))\n",
    "    plt.xticks(tick_marks, classes, rotation=45)\n",
    "    plt.yticks(tick_marks, classes)\n",
    "\n",
    "    fmt = '.2f' if normalize else 'd'\n",
    "    thresh = cm.max() / 2.\n",
    "    for i, j in itertools.product(range(cm.shape[0]), range(cm.shape[1])):\n",
    "        plt.text(j, i, format(cm[i, j], fmt),\n",
    "                 horizontalalignment=\"center\",\n",
    "                 color=\"white\" if cm[i, j] > thresh else \"black\")\n",
    "\n",
    "    plt.tight_layout()\n",
    "    plt.ylabel('True label')\n",
    "    plt.xlabel('Predicted label')\n"
   ]
  }
 ],
 "metadata": {
  "kernelspec": {
   "display_name": "Python 3",
   "language": "python",
   "name": "python3"
  },
  "language_info": {
   "codemirror_mode": {
    "name": "ipython",
    "version": 3
   },
   "file_extension": ".py",
   "mimetype": "text/x-python",
   "name": "python",
   "nbconvert_exporter": "python",
   "pygments_lexer": "ipython3",
   "version": "3.6.4"
  }
 },
 "nbformat": 4,
 "nbformat_minor": 2
}
